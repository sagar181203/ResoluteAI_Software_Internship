{
  "cells": [
    {
      "cell_type": "markdown",
      "metadata": {
        "colab_type": "text",
        "id": "view-in-github"
      },
      "source": [
        "<a href=\"https://colab.research.google.com/github/sagar181203/ResoluteAI_Software_Internship/blob/main/task2.ipynb\" target=\"_parent\"><img src=\"https://colab.research.google.com/assets/colab-badge.svg\" alt=\"Open In Colab\"/></a>"
      ]
    },
    {
      "cell_type": "code",
      "execution_count": null,
      "metadata": {
        "colab": {
          "base_uri": "https://localhost:8080/"
        },
        "id": "nC7lR8tkw0g_",
        "outputId": "a6a72f61-d3ab-46dc-a234-bc9b892b4f34"
      },
      "outputs": [
        {
          "name": "stdout",
          "output_type": "stream",
          "text": [
            "Hello World!!!\n"
          ]
        }
      ],
      "source": [
        "print(\"Hello World!!!\")"
      ]
    },
    {
      "cell_type": "markdown",
      "metadata": {
        "id": "v1_dI8B61Fid"
      },
      "source": [
        "Data Types"
      ]
    },
    {
      "cell_type": "code",
      "execution_count": null,
      "metadata": {
        "colab": {
          "base_uri": "https://localhost:8080/"
        },
        "id": "J3C_w9ADyf2l",
        "outputId": "ae45a851-58f2-484e-924d-7704a5d34ea6"
      },
      "outputs": [
        {
          "name": "stdout",
          "output_type": "stream",
          "text": [
            "<class 'int'>\n",
            "<class 'float'>\n",
            "<class 'complex'>\n",
            "<class 'bool'>\n",
            "<class 'list'>\n",
            "<class 'tuple'>\n",
            "<class 'set'>\n",
            "<class 'dict'>\n"
          ]
        }
      ],
      "source": [
        "# 1.Numeric \n",
        "\n",
        "#integer\n",
        "n=12\n",
        "print(type(n))\n",
        "\n",
        "#Float\n",
        "f=78.3\n",
        "print(type(f))\n",
        "\n",
        "#Complex\n",
        "c=2+3j\n",
        "print(type(c))\n",
        "\n",
        "#boolean \n",
        "b=f<n\n",
        "print(type(b))\n",
        "\n",
        "# 2.List\n",
        "l=[1,2,3,4,5]\n",
        "print(type(l))\n",
        "\n",
        "# 3.Tupple\n",
        "t=(1,2,3,4,5)\n",
        "print(type(t))\n",
        "\n",
        "# 4.set\n",
        "s={1,2,3,4,5}\n",
        "print(type(s))\n",
        "\n",
        "# 5.Dictonary\n",
        "D={1:'Sagar',2:'kumar',3:'Aiml'}\n",
        "print(type(D))"
      ]
    },
    {
      "cell_type": "markdown",
      "metadata": {
        "id": "1R_M1btT5LED"
      },
      "source": [
        "Operators"
      ]
    },
    {
      "cell_type": "code",
      "execution_count": null,
      "metadata": {
        "colab": {
          "base_uri": "https://localhost:8080/"
        },
        "id": "b7JtXxOo0jlu",
        "outputId": "9ecc9c24-116b-4001-9e2c-247ec28d759c"
      },
      "outputs": [
        {
          "name": "stdout",
          "output_type": "stream",
          "text": [
            "11\n",
            "-1\n",
            "30\n",
            "0.8333333333333334\n",
            "6\n",
            "5\n",
            "-9\n",
            "False\n",
            "False\n",
            "True\n",
            "True\n"
          ]
        },
        {
          "data": {
            "text/plain": [
              "True"
            ]
          },
          "execution_count": 54,
          "metadata": {},
          "output_type": "execute_result"
        }
      ],
      "source": [
        "# Arithmetic operators\n",
        "a,b=5,6\n",
        "print(a+b)\n",
        "print(a-b)\n",
        "print(a*b)\n",
        "print(a/b)\n",
        "\n",
        "# Assignment operator\n",
        "a,b=5,6\n",
        "a += 1\n",
        "print(a)\n",
        "b-=1\n",
        "print(b)\n",
        "\n",
        "#Unary Operator\n",
        "n=9\n",
        "n=-n\n",
        "print(n)\n",
        "\n",
        "# Relational Operator  \n",
        "a,b=5,6\n",
        "print(a==b)\n",
        "print(a>b)\n",
        "print(a<b)\n",
        "print(a!=b)\n",
        "\n",
        "# Logical operator\n",
        "a,b=5,6\n",
        "a<8 and b<9\n",
        "a<8 or b<9"
      ]
    },
    {
      "cell_type": "markdown",
      "metadata": {
        "id": "_O9G9qxZA4bG"
      },
      "source": [
        "Number system conversion"
      ]
    },
    {
      "cell_type": "code",
      "execution_count": null,
      "metadata": {
        "colab": {
          "base_uri": "https://localhost:8080/"
        },
        "id": "gPqZHa_i0wwH",
        "outputId": "f34dff32-c078-4adc-ee66-13639f86eff8"
      },
      "outputs": [
        {
          "name": "stdout",
          "output_type": "stream",
          "text": [
            "0b100010\n",
            "0o42\n",
            "0x22\n"
          ]
        }
      ],
      "source": [
        "# To Binary (0-1)\n",
        "print(bin(34))\n",
        "\n",
        "# To octal (0-7)\n",
        "print(oct(34))\n",
        "\n",
        "# To Hex Decimal (0-9 a-f)\n",
        "print(hex(34))"
      ]
    },
    {
      "cell_type": "markdown",
      "metadata": {
        "id": "fVw0nogzDDon"
      },
      "source": [
        "Bitwise Operator"
      ]
    },
    {
      "cell_type": "code",
      "execution_count": null,
      "metadata": {
        "colab": {
          "base_uri": "https://localhost:8080/"
        },
        "id": "zkR_hfdS1q9Z",
        "outputId": "769a8767-a1f6-4838-de07-4838d5bb05fc"
      },
      "outputs": [
        {
          "name": "stdout",
          "output_type": "stream",
          "text": [
            "-9\n"
          ]
        }
      ],
      "source": [
        "# tilde\n",
        "print(~8)"
      ]
    },
    {
      "cell_type": "code",
      "execution_count": null,
      "metadata": {
        "colab": {
          "base_uri": "https://localhost:8080/"
        },
        "id": "wqAM3qMFD-ZU",
        "outputId": "8c652020-f1b6-4035-a812-c2757b2aa571"
      },
      "outputs": [
        {
          "data": {
            "text/plain": [
              "8"
            ]
          },
          "execution_count": 51,
          "metadata": {},
          "output_type": "execute_result"
        }
      ],
      "source": [
        "#Bitwise And\n",
        "8 & 9\n",
        " "
      ]
    },
    {
      "cell_type": "code",
      "execution_count": null,
      "metadata": {
        "colab": {
          "base_uri": "https://localhost:8080/"
        },
        "id": "06ukNh_cEB8r",
        "outputId": "35ca95b1-d321-427f-e5f6-6ce24f59efc8"
      },
      "outputs": [
        {
          "data": {
            "text/plain": [
              "9"
            ]
          },
          "execution_count": 52,
          "metadata": {},
          "output_type": "execute_result"
        }
      ],
      "source": [
        "#Bitwise or\n",
        "8|9"
      ]
    },
    {
      "cell_type": "code",
      "execution_count": null,
      "metadata": {
        "colab": {
          "base_uri": "https://localhost:8080/"
        },
        "id": "5emx1_8eEStc",
        "outputId": "a46a3dfe-4094-4e4c-ee7a-9198706e9f06"
      },
      "outputs": [
        {
          "data": {
            "text/plain": [
              "1"
            ]
          },
          "execution_count": 53,
          "metadata": {},
          "output_type": "execute_result"
        }
      ],
      "source": [
        "#Bitwise Xor\n",
        "8^9"
      ]
    },
    {
      "cell_type": "code",
      "execution_count": null,
      "metadata": {
        "colab": {
          "base_uri": "https://localhost:8080/"
        },
        "id": "IclQjh03Egiy",
        "outputId": "ef3c1b16-11c2-457e-e736-41d8549640e3"
      },
      "outputs": [
        {
          "data": {
            "text/plain": [
              "32"
            ]
          },
          "execution_count": 57,
          "metadata": {},
          "output_type": "execute_result"
        }
      ],
      "source": [
        "# Left Shift\n",
        "8<<2"
      ]
    },
    {
      "cell_type": "code",
      "execution_count": null,
      "metadata": {
        "colab": {
          "base_uri": "https://localhost:8080/"
        },
        "id": "YEtWn0H9EvNf",
        "outputId": "72d70388-2c65-4c43-8cfe-7c3fae06fb12"
      },
      "outputs": [
        {
          "data": {
            "text/plain": [
              "2"
            ]
          },
          "execution_count": 58,
          "metadata": {},
          "output_type": "execute_result"
        }
      ],
      "source": [
        "# Left Shift\n",
        "8>>2"
      ]
    },
    {
      "cell_type": "markdown",
      "metadata": {
        "id": "vRYCJTGz2me-"
      },
      "source": [
        "User Input"
      ]
    },
    {
      "cell_type": "code",
      "execution_count": null,
      "metadata": {
        "colab": {
          "base_uri": "https://localhost:8080/"
        },
        "id": "htyIv3Y5FMmk",
        "outputId": "8ad8f2d8-95a6-43d2-815e-d0a1f9be7bc2"
      },
      "outputs": [
        {
          "name": "stdout",
          "output_type": "stream",
          "text": [
            "17\n"
          ]
        }
      ],
      "source": [
        "# Direct input through the assignment operator\n",
        "a=9\n",
        "b=8\n",
        "print(a+b)"
      ]
    },
    {
      "cell_type": "code",
      "execution_count": null,
      "metadata": {
        "colab": {
          "base_uri": "https://localhost:8080/"
        },
        "id": "yzgWz9j3I5Ds",
        "outputId": "2a49d75e-cda9-43f0-db3c-da3d8a573990"
      },
      "outputs": [
        {
          "name": "stdout",
          "output_type": "stream",
          "text": [
            "Enter the  1st number:12\n",
            "Enter the  2nd number:6\n",
            "sum is  18\n"
          ]
        }
      ],
      "source": [
        "# User input for the integer\n",
        "a=int(input(\"Enter the  1st number:\"))\n",
        "b=int(input(\"Enter the  2nd number:\"))\n",
        "print(\"sum is \",a+b)"
      ]
    },
    {
      "cell_type": "code",
      "execution_count": null,
      "metadata": {
        "colab": {
          "base_uri": "https://localhost:8080/"
        },
        "id": "u8PYrQehJuXF",
        "outputId": "a2d1b1b1-33be-4d0b-c601-1ad2ecfbd252"
      },
      "outputs": [
        {
          "name": "stdout",
          "output_type": "stream",
          "text": [
            "Enter the Name:sagar\n",
            "sagar\n",
            "Expression:2+3-1\n",
            "4\n"
          ]
        }
      ],
      "source": [
        "# User input for the String\n",
        "str=input(\"Enter the Name:\")\n",
        "print(str)\n",
        "\n",
        "result=eval(input(\"Expression:\"))\n",
        "print(result)"
      ]
    },
    {
      "cell_type": "markdown",
      "metadata": {
        "id": "zpjzHMUHLZ2A"
      },
      "source": [
        "**List**"
      ]
    },
    {
      "cell_type": "code",
      "execution_count": null,
      "metadata": {
        "colab": {
          "base_uri": "https://localhost:8080/"
        },
        "id": "VbDBCXX7LdJw",
        "outputId": "bd88b05f-5867-4a1c-c6ce-c781cab5629b"
      },
      "outputs": [
        {
          "name": "stdout",
          "output_type": "stream",
          "text": [
            "[1, 2, 3, 4, 5]\n",
            "1\n",
            "5\n",
            "['sagar', 'kumar', 'Aiml']\n",
            "[35, 'sagar', 5.5]\n",
            "[[1, 2, 3, 4, 5], ['sagar', 'kumar', 'Aiml']]\n",
            "After append - [35, 'sagar', 5.5, 76]\n",
            "After pop - [35, 'sagar', 5.5]\n",
            "After reverse - [5.5, 'sagar', 35]\n"
          ]
        }
      ],
      "source": [
        "# list having numbers\n",
        "list=[1,2,3,4,5]\n",
        "print(list)\n",
        "print(list[0]) # with range \n",
        "print(list[4])\n",
        "\n",
        "# List having string\n",
        "name=['sagar','kumar','Aiml']\n",
        "print(name)\n",
        "\n",
        "# list having different data types\n",
        "l=[35,'sagar',5.5]\n",
        "print(l)\n",
        "\n",
        "# list having lists \n",
        "m=[list,name]\n",
        "print(m)\n",
        "\n",
        "#list are mutable so we can perform such operation like--\n",
        "\n",
        "# append\n",
        "l.append(76)\n",
        "print(\"After append -\",l)\n",
        "\n",
        "# pop\n",
        "l.pop() \n",
        "print(\"After pop -\",l)\n",
        "\n",
        "# reverse\n",
        "l.reverse()  #we can do for count(), copy(),index(), insert(),clear() etc\n",
        "print(\"After reverse -\",l)"
      ]
    },
    {
      "cell_type": "code",
      "execution_count": null,
      "metadata": {
        "colab": {
          "base_uri": "https://localhost:8080/"
        },
        "id": "Fu2AA5C4P_cZ",
        "outputId": "26fbad27-5e47-4574-ca9f-f93b77f8a5b2"
      },
      "outputs": [
        {
          "name": "stdout",
          "output_type": "stream",
          "text": [
            "Sorted list [2, 15, 17, 48, 83]\n",
            "Minimum in list : 2\n",
            "Max in list : 83\n",
            "Sum of list elements  : 165\n"
          ]
        }
      ],
      "source": [
        "# some functions \n",
        "list=[17,2,83,48,15] \n",
        "list.sort()                                    # sort\n",
        "print(\"Sorted list\",list)\n",
        "print(\"Minimum in list :\",min(list))           # min\n",
        "print(\"Max in list :\",max(list))               # max\n",
        "print(\"Sum of list elements  :\",sum(list))     # sum                         "
      ]
    },
    {
      "cell_type": "markdown",
      "metadata": {
        "id": "JmW5QwhmR8oT"
      },
      "source": [
        "**Tuple** **and** **Set**"
      ]
    },
    {
      "cell_type": "code",
      "execution_count": null,
      "metadata": {
        "colab": {
          "base_uri": "https://localhost:8080/"
        },
        "id": "XTutzCtiSKGG",
        "outputId": "2632fa18-ad89-4a94-ced8-c85d33b1a0de"
      },
      "outputs": [
        {
          "name": "stdout",
          "output_type": "stream",
          "text": [
            "(12, 34, 12, 55)\n",
            "{667, 45, 78, 22}\n"
          ]
        }
      ],
      "source": [
        "# tuples are immutable\n",
        "tup=(12,34,12,55)\n",
        "print(tup)\n",
        "\n",
        "\n",
        "# set will fetch the element without sequence \n",
        "s={22,45,667,78,45}\n",
        "print(s)  #index will not support and duplicate value\n"
      ]
    },
    {
      "cell_type": "markdown",
      "metadata": {
        "id": "TP6CpOsOUwXd"
      },
      "source": [
        "**Dictionary**"
      ]
    },
    {
      "cell_type": "code",
      "execution_count": null,
      "metadata": {
        "colab": {
          "base_uri": "https://localhost:8080/"
        },
        "id": "l-yghmnwU5s_",
        "outputId": "6a2e1476-9f10-4ebe-bc84-7b406d996e3f"
      },
      "outputs": [
        {
          "name": "stdout",
          "output_type": "stream",
          "text": [
            "{1: 'Sagar', 2: 'kumar', 3: 'Aiml'}\n",
            "Sagar\n",
            "{1: 'sagar', 2: 'kumar', 3: 'aiml'}\n",
            "After extending: {1: 'sagar', 2: 'kumar', 3: 'aiml', 4: '4th_sem'}\n",
            "After delete: {1: 'sagar', 2: 'kumar', 3: 'aiml'}\n"
          ]
        }
      ],
      "source": [
        "# acessing the dict from the indexing \n",
        "d={1:'Sagar',2:'kumar',3:'Aiml'}\n",
        "print(d)\n",
        "print(d.get(1))\n",
        "\n",
        "# dictionary with the help of list ( merging )\n",
        "no=[1,2,3]                              # also can be done by the set\n",
        "name=['sagar','kumar','aiml']\n",
        "info=dict(zip(no,name))\n",
        "print(info)\n",
        "\n",
        "# extending Or adding \n",
        "info[4]='4th_sem'\n",
        "print(\"After extending:\",info)\n",
        "\n",
        "# deleting from dict \n",
        "del info[4]\n",
        "print(\"After delete:\",info)\n"
      ]
    },
    {
      "cell_type": "markdown",
      "metadata": {
        "id": "cKqV0nCtifXa"
      },
      "source": [
        "**Conditioning**"
      ]
    },
    {
      "cell_type": "code",
      "execution_count": null,
      "metadata": {
        "colab": {
          "base_uri": "https://localhost:8080/"
        },
        "id": "QkAOUy2mikpb",
        "outputId": "22b1b8e9-328b-4c11-fcb5-8aabfe8ee3e8"
      },
      "outputs": [
        {
          "name": "stdout",
          "output_type": "stream",
          "text": [
            "Enter the number :88\n",
            "Even Number\n"
          ]
        }
      ],
      "source": [
        "# condition to check odd or even\n",
        "n=int(input (\"Enter the number :\")) \n",
        "r=n%2\n",
        "if r==0:\n",
        "  print(\"Even Number\")\n",
        "else:\n",
        "    print(\"Odd Number\")      "
      ]
    },
    {
      "cell_type": "code",
      "execution_count": null,
      "metadata": {
        "colab": {
          "base_uri": "https://localhost:8080/"
        },
        "id": "B-pAZ8Iak4FI",
        "outputId": "48425aa6-6418-4f41-f4e7-a432c65f0b1b"
      },
      "outputs": [
        {
          "name": "stdout",
          "output_type": "stream",
          "text": [
            "Enter the hour in military time :23\n",
            "Good night\n"
          ]
        }
      ],
      "source": [
        "# conditioning statement if ,elif, else\n",
        "hour =int (input (\"Enter the hour in military time :\"))\n",
        "if hour < 12:\n",
        "    greeting = \"Good morning\"\n",
        "elif hour < 18:\n",
        "    greeting = \"Good afternoon\"\n",
        "else:\n",
        "    greeting = \"Good night\"\n",
        "print(greeting)"
      ]
    },
    {
      "cell_type": "markdown",
      "metadata": {
        "id": "l3xBPByMmXO0"
      },
      "source": [
        "**While** **Loop**"
      ]
    },
    {
      "cell_type": "code",
      "execution_count": null,
      "metadata": {
        "colab": {
          "base_uri": "https://localhost:8080/"
        },
        "id": "7iNNYem6mht6",
        "outputId": "cd185e2f-c319-4f5e-9b54-600b60189716"
      },
      "outputs": [
        {
          "name": "stdout",
          "output_type": "stream",
          "text": [
            "Artificial Intelligence\n",
            "Artificial Intelligence\n",
            "Artificial Intelligence\n",
            "Artificial Intelligence\n",
            "Artificial Intelligence\n"
          ]
        }
      ],
      "source": [
        "i=1 #initialize\n",
        "while i<=5: # condition\n",
        "    print(\"Artificial Intelligence\")\n",
        "    i+=1 # Either Incrementation or Decrementation "
      ]
    },
    {
      "cell_type": "markdown",
      "metadata": {
        "id": "UJgSL_w8nwoD"
      },
      "source": [
        "**For** **Loop**"
      ]
    },
    {
      "cell_type": "code",
      "execution_count": null,
      "metadata": {
        "colab": {
          "base_uri": "https://localhost:8080/"
        },
        "id": "ob_mZSRlnz_0",
        "outputId": "d25d008c-e97d-4155-9336-ef9fca51080f"
      },
      "outputs": [
        {
          "name": "stdout",
          "output_type": "stream",
          "text": [
            "0\n",
            "1\n",
            "2\n",
            "3\n",
            "4\n",
            "5\n",
            "6\n",
            "7\n",
            "8\n",
            "9\n"
          ]
        }
      ],
      "source": [
        "# for loop with Range (start,final,step)\n",
        "for i in range (1,10,1):\n",
        "    print(i)"
      ]
    },
    {
      "cell_type": "code",
      "execution_count": null,
      "metadata": {
        "colab": {
          "base_uri": "https://localhost:8080/"
        },
        "id": "I98pZN3wqWoR",
        "outputId": "bb4323c7-8898-4023-f93e-6aca7a1a072c"
      },
      "outputs": [
        {
          "name": "stdout",
          "output_type": "stream",
          "text": [
            "s\n",
            "a\n",
            "g\n",
            "a\n",
            "r\n",
            "\n",
            "\n",
            "0\n",
            "1\n",
            "2\n",
            "3\n",
            "4\n"
          ]
        }
      ],
      "source": [
        "# with char\n",
        "name =\"sagar\"\n",
        "for char in name:\n",
        "    print(char)\n",
        "print(\"\\n\")\n",
        "\n",
        "# with  num\n",
        "for num in range(5):\n",
        "      print(num)       "
      ]
    },
    {
      "cell_type": "markdown",
      "metadata": {
        "id": "ifsqs_KUr7lM"
      },
      "source": [
        "**Break, Continue, Pass**"
      ]
    },
    {
      "cell_type": "code",
      "execution_count": null,
      "metadata": {
        "colab": {
          "base_uri": "https://localhost:8080/"
        },
        "id": "8MDJgW8psEBM",
        "outputId": "6925d896-da89-460c-a7d7-581b5f09b4db"
      },
      "outputs": [
        {
          "name": "stdout",
          "output_type": "stream",
          "text": [
            "0\n",
            "1\n",
            "2\n",
            "3\n",
            "\n",
            "\n",
            "0\n",
            "1\n",
            "2\n",
            "3\n",
            "5\n",
            "6\n",
            "7\n",
            "8\n",
            "9\n",
            "\n",
            "\n",
            "0\n",
            "1\n",
            "2\n",
            "3\n",
            "4\n",
            "5\n",
            "6\n",
            "7\n",
            "8\n",
            "9\n"
          ]
        }
      ],
      "source": [
        "# Break\n",
        "for i in range (10):\n",
        "    if i==4:\n",
        "        break\n",
        "    print(i)    \n",
        "print(\"\\n\")\n",
        "\n",
        "# continue\n",
        "for i in range (10):\n",
        "    if i==4:\n",
        "        continue\n",
        "    print(i)    \n",
        "print(\"\\n\")\n",
        "\n",
        "# Pass\n",
        "for i in range (10):\n",
        "    if i==4:\n",
        "        pass\n",
        "    print(i)    "
      ]
    },
    {
      "cell_type": "markdown",
      "metadata": {
        "id": "N3a2PRLltryb"
      },
      "source": [
        "**For** **Else** "
      ]
    },
    {
      "cell_type": "code",
      "execution_count": null,
      "metadata": {
        "colab": {
          "base_uri": "https://localhost:8080/"
        },
        "id": "Sjcfq_czuB_7",
        "outputId": "f69db5b1-2578-43a3-add6-2f973a6febb6"
      },
      "outputs": [
        {
          "name": "stdout",
          "output_type": "stream",
          "text": [
            "Not there in list\n"
          ]
        }
      ],
      "source": [
        "n=[65,23,45,67]\n",
        "for num in n:\n",
        "    if num%2==0:\n",
        "      print(num)\n",
        "      break\n",
        "else:\n",
        "    print(\"Not there in list\")      "
      ]
    },
    {
      "cell_type": "markdown",
      "metadata": {
        "id": "A1Qc_S2eu157"
      },
      "source": [
        "**Array**"
      ]
    },
    {
      "cell_type": "code",
      "execution_count": null,
      "metadata": {
        "colab": {
          "base_uri": "https://localhost:8080/"
        },
        "id": "-P-cBwLau8Dk",
        "outputId": "959c9fbf-b723-4600-fed1-58975a5f3051"
      },
      "outputs": [
        {
          "name": "stdout",
          "output_type": "stream",
          "text": [
            "array('i', [88, -787, 99, 55])\n",
            "(139890510806400, 4)\n",
            "array('i', [55, 99, -787, 88])\n",
            "-787\n",
            "\n",
            "\n",
            "55\n",
            "99\n",
            "-787\n",
            "88\n",
            "\n",
            "\n",
            "55\n",
            "99\n",
            "-787\n",
            "88\n"
          ]
        }
      ],
      "source": [
        "# all data will be same type\n",
        "from array import*\n",
        "                                        # i for signed int\n",
        "value=array('i',[88, -787 , 99, 55])    # I for unsigned int \n",
        "print(value)\n",
        "\n",
        "# buffer_ info to get Size of array\n",
        "\n",
        "print(value.buffer_info()) #(address, size)\n",
        "\n",
        "# reverse of array\n",
        "value.reverse()\n",
        "print(value)\n",
        "print(value[2]) # Access with index\n",
        "print(\"\\n\")\n",
        "\n",
        "\n",
        "# for loop\n",
        "for i in range (4):\n",
        "    print(value[i])\n",
        "print(\"\\n\")\n",
        "\n",
        "# With typecode \n",
        "new=array(value.typecode,( a for a in value ))\n",
        "for i in new:\n",
        "    print(i)"
      ]
    },
    {
      "cell_type": "code",
      "execution_count": null,
      "metadata": {
        "colab": {
          "base_uri": "https://localhost:8080/"
        },
        "id": "s_kP-I_LNtoL",
        "outputId": "6f7ecc22-53f2-43f7-f43d-4651e56991e4"
      },
      "outputs": [
        {
          "name": "stdout",
          "output_type": "stream",
          "text": [
            "Enter the array length:5\n",
            "Enter the element:1\n",
            "Enter the element:2\n",
            "Enter the element:3\n",
            "Enter the element:4\n",
            "Enter the element:5\n",
            "array('i', [1, 2, 3, 4, 5])\n",
            "\n",
            "\n",
            "Enter the element for search:3\n",
            "Element found at index  : 2\n"
          ]
        }
      ],
      "source": [
        "# taking  User input to create an array \n",
        "from array import *\n",
        "a=array('i',[])\n",
        "n= int (input (\"Enter the array length:\")) \n",
        "for i in range (n):\n",
        "    x= int (input (\"Enter the element:\")) \n",
        "    a.append(x)\n",
        "print(a)\n",
        "print(\"\\n\")    \n",
        "\n",
        "# Searching the value\n",
        "value= int (input (\"Enter the element for search:\"))\n",
        "k=0\n",
        "for i in a:\n",
        "    if i==value:\n",
        "      break\n",
        "    k+=1\n",
        "print(\"Element found at index  :\",a.index(value))"
      ]
    },
    {
      "cell_type": "code",
      "execution_count": null,
      "metadata": {
        "colab": {
          "base_uri": "https://localhost:8080/"
        },
        "id": "qTb1MKGgTjhd",
        "outputId": "f9d36d0c-27aa-4b55-c16e-cdd26ef793a5"
      },
      "outputs": [
        {
          "name": "stdout",
          "output_type": "stream",
          "text": [
            "[1 2 3 4 5 6 7 8]\n"
          ]
        }
      ],
      "source": [
        "# numpy for Array\n",
        "\n",
        "from numpy import*\n",
        "A=array([1,2,3,4,5,6,7,8])\n",
        "print(A)"
      ]
    },
    {
      "cell_type": "code",
      "execution_count": null,
      "metadata": {
        "colab": {
          "base_uri": "https://localhost:8080/"
        },
        "id": "p5xXhrG8VMOx",
        "outputId": "0ae9b74b-6ff2-4e49-e51c-e4f57ade60af"
      },
      "outputs": [
        {
          "name": "stdout",
          "output_type": "stream",
          "text": [
            "[1 2 3 4 5 6 7 8]\n",
            "[ 0.  1.  2.  3.  4.  5.  6.  7.  8.  9. 10.]\n",
            "[0 2 4 6 8]\n",
            "[ 0.  5. 10.]\n",
            "[0. 0. 0. 0. 0.]\n",
            "[1. 1. 1. 1. 1.]\n"
          ]
        }
      ],
      "source": [
        "# different way to create array\n",
        "from numpy import*\n",
        "# 1 array()\n",
        "a=array([1,2,3,4,5,6,7,8])\n",
        "print(a)\n",
        "\n",
        "# 2 linspace  (start, stop, no. of parts)\n",
        "b=linspace(0,10,11)\n",
        "print(b)\n",
        "\n",
        "# 3 arange  (start, stop, steps)\n",
        "c=arange(0,10,2)\n",
        "print(c)\n",
        "\n",
        "# 4 logspace  (start, stop, no. of parts)\n",
        "d=linspace(0,10,3)\n",
        "print(d)\n",
        "\n",
        "# 5 Zeros()\n",
        "e=zeros(5)\n",
        "print(e)\n",
        "\n",
        "# 6  ones()\n",
        "f=ones(5)\n",
        "print(f)\n",
        "\n"
      ]
    },
    {
      "cell_type": "code",
      "execution_count": null,
      "metadata": {
        "colab": {
          "base_uri": "https://localhost:8080/"
        },
        "id": "XGJAWudVasuK",
        "outputId": "d6fcc5f0-51a8-4de0-8266-4b09cbd02423"
      },
      "outputs": [
        {
          "name": "stdout",
          "output_type": "stream",
          "text": [
            "[ 6  7  8  9 10]\n",
            "After Addition new array [ 7  9 11 13  6]\n",
            "[-0.2794155   0.6569866   0.98935825  0.41211849 -0.54402111]\n",
            "[1 2 3 4 5 6 7 8 9 1]\n",
            "[1 3 4 5 6]\n",
            "[1 3 4 5 6]\n",
            "Address of t1 139889228926672\n",
            "Address of t2 139889228926672\n",
            "Address of t3 139889228927728\n"
          ]
        }
      ],
      "source": [
        "from numpy import*\n",
        "arr=array([1,2,3,4,5])\n",
        "arr+=5\n",
        "print(arr)\n",
        "\n",
        "# Addition of two Array\n",
        "arr1=array([1,2,3,4,5])\n",
        "arr2=array([6,7,8,9,1])\n",
        "arr3=arr1+arr2\n",
        "print(\"After Addition new array\",arr3)\n",
        "\n",
        "\n",
        "print(sin(arr)) #like same for cos,tan,log,sum,min,max ,sqrt etc\n",
        "\n",
        "# concatination\n",
        "print(concatenate([arr1,arr2]))\n",
        "\n",
        "# copying of array\n",
        "t1=array([1,3,4,5,6])\n",
        "t2=t1  # WITH same add.\n",
        "print(t2)\n",
        "\n",
        "# with new Address\n",
        "t3=t1.view()\n",
        "print(t3)\n",
        "\n",
        "print(\"Address of t1\",id(t1))\n",
        "print(\"Address of t2\",id(t2))\n",
        "print(\"Address of t3\",id(t3))\n",
        "\n"
      ]
    },
    {
      "cell_type": "markdown",
      "metadata": {
        "id": "sWljcd4oq0Zm"
      },
      "source": [
        "**Multi** **Dimension** **Array**"
      ]
    },
    {
      "cell_type": "code",
      "execution_count": null,
      "metadata": {
        "colab": {
          "base_uri": "https://localhost:8080/"
        },
        "id": "YEyBIwRWhSWL",
        "outputId": "40260556-e9ec-46a1-9426-6682ada9146f"
      },
      "outputs": [
        {
          "name": "stdout",
          "output_type": "stream",
          "text": [
            "[[1 2 3]\n",
            " [4 5 6]]\n",
            "Size: 6\n",
            "Dimension: 2\n",
            "Type int64\n",
            "Type (2, 3)\n",
            "2D to 1D [1 2 3 4 5 6]\n",
            "1D to 2D [[ 1  2  3  4]\n",
            " [ 5  6  7  8]\n",
            " [ 9 10 11 12]]\n"
          ]
        }
      ],
      "source": [
        "# Multi Dimension Array\n",
        "from numpy import*\n",
        "a=array([[1,2,3],[4,5,6]])\n",
        "print(a)\n",
        "\n",
        "# oprations\n",
        "print(\"Size:\",a.size) #size of entire block\n",
        "print(\"Dimension:\",a.ndim) # dimension\n",
        "print(\"Type\",a.dtype) # type\n",
        "print(\"Type\",a.shape) # no. of row and column\n",
        "\n",
        "# reshape or conversion of dimension\n",
        "ar=array([[1,2,3],[4,5,6]])\n",
        "ar2=ar.flatten()                        # multi to 1D\n",
        "print(\"2D to 1D\",ar2)\\\n",
        "\n",
        "s=array([[1,2,3,4,5,6],[7,8,9,10,11,12]])\n",
        "ar3=s.reshape(3,4)                       # 1D to 2D\n",
        "print(\"1D to 2D\",ar3)"
      ]
    },
    {
      "cell_type": "markdown",
      "metadata": {
        "id": "fD_v1Uaaqu8R"
      },
      "source": [
        "**Matrix**"
      ]
    },
    {
      "cell_type": "code",
      "execution_count": null,
      "metadata": {
        "colab": {
          "base_uri": "https://localhost:8080/"
        },
        "id": "A9YjoyssmvjG",
        "outputId": "bcf866d8-8be7-47e7-9f3b-8e0109655c6e"
      },
      "outputs": [
        {
          "name": "stdout",
          "output_type": "stream",
          "text": [
            "[[1 2 3]\n",
            " [4 5 6]\n",
            " [7 8 9]]\n",
            "[[1 2 3]\n",
            " [4 5 6]]\n",
            "9\n",
            "1\n",
            "Addition of matrix :\n",
            " [[ 6  9  5]\n",
            " [12  6  9]\n",
            " [11 17 15]]\n",
            "multiplication of matrix :\n",
            " [[ 33  36  26]\n",
            " [ 84  87  59]\n",
            " [135 138  92]]\n"
          ]
        }
      ],
      "source": [
        "# matrix\n",
        "from numpy import*\n",
        "\n",
        "m=matrix('1 2 3 ; 4 5 6; 7 8 9 ')\n",
        "print(m)\n",
        "\n",
        "# matrix from the array\n",
        "a=array([[1,2,3],[4,5,6]])\n",
        "n=matrix(a)\n",
        "print(n)\n",
        "\n",
        "# operation\n",
        "print(m.max())\n",
        "print(m.min())\n",
        "\n",
        "# Addition and multiplication\n",
        "m1=matrix('1 2 3 ; 4 5 6; 7 8 9 ')\n",
        "m2=matrix('5 7 2 ; 8 1 3;  4 9 6 ')\n",
        "\n",
        "m3=m1+m2\n",
        "m4=m1*m2\n",
        "print(\"Addition of matrix :\\n\",m3)\n",
        "print(\"multiplication of matrix :\\n\",m4)\n"
      ]
    },
    {
      "cell_type": "markdown",
      "metadata": {
        "id": "cjPMAJ_DsLu4"
      },
      "source": [
        "**Function**"
      ]
    },
    {
      "cell_type": "code",
      "execution_count": null,
      "metadata": {
        "colab": {
          "base_uri": "https://localhost:8080/"
        },
        "id": "641T86thsP1J",
        "outputId": "e55b5547-8cec-4273-bf39-58c17615d554"
      },
      "outputs": [
        {
          "name": "stdout",
          "output_type": "stream",
          "text": [
            "60\n",
            "58\n",
            "sagar\n",
            "20\n",
            "None\n"
          ]
        }
      ],
      "source": [
        "def add(a,b): # format Parameter\n",
        " c=a+b\n",
        " return c\n",
        "print(add(56,4)) # actual parameter also for  position\n",
        "\n",
        "#deafult parameter\n",
        "def add(a,b=2):\n",
        " c=a+b\n",
        " return c\n",
        "print(add(56)) \n",
        "\n",
        "#keyword parameter\n",
        "def stu(name,age):\n",
        "  print(name)\n",
        "  print(age)\n",
        "\n",
        "\n",
        "print(stu(age=20,name='sagar')) \n",
        "\n",
        "\n"
      ]
    },
    {
      "cell_type": "code",
      "execution_count": null,
      "metadata": {
        "colab": {
          "base_uri": "https://localhost:8080/"
        },
        "id": "aOOuOuQnw9nO",
        "outputId": "1637bc64-d90b-4dfd-eb07-f0e67f9ad88f"
      },
      "outputs": [
        {
          "name": "stdout",
          "output_type": "stream",
          "text": [
            "sagar\n",
            "{'age': 20, 'branch': 'AIML'}\n",
            "sagar\n",
            "age 20\n",
            "branch AIML\n"
          ]
        }
      ],
      "source": [
        "# keyword variable length parameter\n",
        "def stu(name,**data):\n",
        "  print(name) \n",
        "  print(data)\n",
        "\n",
        "stu('sagar',age=20, branch='AIML')\n",
        "\n",
        "\n",
        "\n",
        "def stud(name,**data):\n",
        "  print(name) \n",
        "  \n",
        "  for i,j in data.items():\n",
        "    print(i,j)\n",
        "stud('sagar',age=20, branch='AIML')"
      ]
    },
    {
      "cell_type": "code",
      "execution_count": null,
      "metadata": {
        "colab": {
          "base_uri": "https://localhost:8080/"
        },
        "id": "1AY8w_fVzKQW",
        "outputId": "b97504ed-43fb-4468-a179-2ca6ec6f10f3"
      },
      "outputs": [
        {
          "name": "stdout",
          "output_type": "stream",
          "text": [
            "local: 90\n",
            "Global: 99\n"
          ]
        }
      ],
      "source": [
        "#global veriable\n",
        "a=99\n",
        "def new():\n",
        "  a=90  # local variable\n",
        "  print(\"local:\",a)\n",
        "new()\n",
        "print(\"Global:\",a)  "
      ]
    },
    {
      "cell_type": "code",
      "execution_count": null,
      "metadata": {
        "colab": {
          "base_uri": "https://localhost:8080/"
        },
        "id": "t1A1F1C52U7V",
        "outputId": "66c7e695-10ef-4100-dab1-4601596dec24"
      },
      "outputs": [
        {
          "name": "stdout",
          "output_type": "stream",
          "text": [
            "Even:4 and odd :2\n"
          ]
        }
      ],
      "source": [
        "#count\n",
        "def count(lst):\n",
        "      even=0\n",
        "      odd=0\n",
        "      for i in lst:\n",
        "        if i%2==0:\n",
        "          even+=1\n",
        "        else:\n",
        "          odd+=1\n",
        "      return even,odd\n",
        "\n",
        "lst=[12,34,56,35,45,88]\n",
        "even,odd=count(lst )\n",
        "print(\"Even:{} and odd :{}\".format(even,odd))\n"
      ]
    },
    {
      "cell_type": "code",
      "execution_count": null,
      "metadata": {
        "colab": {
          "base_uri": "https://localhost:8080/"
        },
        "id": "-RGPkTOP2agE",
        "outputId": "712020d3-ae7f-4c17-d3e5-34b99afe2300"
      },
      "outputs": [
        {
          "name": "stdout",
          "output_type": "stream",
          "text": [
            "Enter the Number:4\n",
            "24\n"
          ]
        }
      ],
      "source": [
        "# Recursion\n",
        "def fact(n):\n",
        "  f=1\n",
        "  for i in range(1,n+1):\n",
        "      f=f*i\n",
        "  return f\n",
        "\n",
        "n=int(input(\"Enter the Number:\")) \n",
        "factorial=fact(n)\n",
        "print(factorial)\n"
      ]
    },
    {
      "cell_type": "markdown",
      "metadata": {
        "id": "9wuOX7V-6ECu"
      },
      "source": [
        "**Lambda**"
      ]
    },
    {
      "cell_type": "code",
      "execution_count": null,
      "metadata": {
        "colab": {
          "base_uri": "https://localhost:8080/"
        },
        "id": "O0AB-Xoe6Gl2",
        "outputId": "eab862b1-de56-481f-d028-92198a516c84"
      },
      "outputs": [
        {
          "name": "stdout",
          "output_type": "stream",
          "text": [
            "625\n"
          ]
        }
      ],
      "source": [
        "f=lambda a:a*a\n",
        "r=f(25)\n",
        "print(r)"
      ]
    },
    {
      "cell_type": "markdown",
      "metadata": {
        "id": "ltWQrkCK7PvT"
      },
      "source": [
        "**filter**, **map**, **reduce**"
      ]
    },
    {
      "cell_type": "code",
      "execution_count": null,
      "metadata": {
        "colab": {
          "base_uri": "https://localhost:8080/"
        },
        "id": "wKjtgkRG7Srs",
        "outputId": "97ad3016-7241-4621-df54-e22f921ab29a"
      },
      "outputs": [
        {
          "name": "stdout",
          "output_type": "stream",
          "text": [
            "[2, 4, 8]\n"
          ]
        }
      ],
      "source": [
        "# filter\n",
        "\n",
        "num=[1,2,3,4,5,8,9]\n",
        "check=list(filter(lambda n: n%2==0,num)) # using lambda for checking the even number\n",
        "\n",
        "print(check)\n"
      ]
    },
    {
      "cell_type": "code",
      "execution_count": null,
      "metadata": {
        "colab": {
          "base_uri": "https://localhost:8080/"
        },
        "id": "K-XWlNPz5v_u",
        "outputId": "7b8c6a9a-ce71-4905-a4b4-155e54749d27"
      },
      "outputs": [
        {
          "name": "stdout",
          "output_type": "stream",
          "text": [
            "[8, 4]\n",
            "[3, 7, 9, 10, 11, 6]\n",
            "46\n"
          ]
        }
      ],
      "source": [
        "# Map  and reduce\n",
        "\n",
        "num=[1,5,7,8,9,4]\n",
        "check=list(filter(lambda n: n%2==0,num))\n",
        "print(check)\n",
        "double =list(map(lambda n:n+2,num))\n",
        "print(double)\n",
        "sum= reduce(lambda a,b: a+b,double )\n",
        "print(sum)"
      ]
    },
    {
      "cell_type": "markdown",
      "metadata": {
        "id": "SoY74VvV8K5S"
      },
      "source": [
        "**Decorators**"
      ]
    },
    {
      "cell_type": "code",
      "execution_count": null,
      "metadata": {
        "colab": {
          "base_uri": "https://localhost:8080/"
        },
        "id": "RVD_3EXN8MxQ",
        "outputId": "894ace79-81ef-4d4a-a2f4-ca11c93a3eac"
      },
      "outputs": [
        {
          "name": "stdout",
          "output_type": "stream",
          "text": [
            "2.0\n"
          ]
        }
      ],
      "source": [
        "# adding extra faetures \n",
        "def div (a,b):\n",
        "  print(a/b)\n",
        "\n",
        "def may(func):\n",
        "  def inn(a,b):\n",
        "    if a<b:\n",
        "      a,b=b,a\n",
        "    return func(a,b)\n",
        "  return inn\n",
        "\n",
        "div=may(div)\n",
        "div(2,4) \n",
        "\n"
      ]
    },
    {
      "cell_type": "markdown",
      "metadata": {
        "id": "gEkX9KoNCiUq"
      },
      "source": [
        "**OOP**"
      ]
    },
    {
      "cell_type": "code",
      "execution_count": null,
      "metadata": {
        "colab": {
          "base_uri": "https://localhost:8080/"
        },
        "id": "xcKK_92HGQtF",
        "outputId": "4e1d3a17-639c-44df-d859-f3be76eef7ce"
      },
      "outputs": [
        {
          "name": "stdout",
          "output_type": "stream",
          "text": [
            "Kumar is a Student\n"
          ]
        }
      ],
      "source": [
        "# class-  blueprint which contains various object\n",
        "# object- instance\n",
        "\n",
        "class Person:\n",
        "   name=\"Sagar \"\n",
        "   occupation=\"Intern \"\n",
        "   def info(self):\n",
        "    print(f\"{self.name} is a {self.occupation}\" )\n",
        "\n",
        "a=Person() \n",
        "a.name=\"Kumar\"\n",
        "a.occupation=\"Student\"\n",
        "# print(a.name,a.occupation)\n",
        "a.info()\n"
      ]
    },
    {
      "cell_type": "code",
      "execution_count": null,
      "metadata": {
        "colab": {
          "base_uri": "https://localhost:8080/"
        },
        "id": "hk8g8tHCLpuc",
        "outputId": "b5309a06-b1e2-4e5b-8c53-1547ad2883ac"
      },
      "outputs": [
        {
          "name": "stdout",
          "output_type": "stream",
          "text": [
            "Person : Sagar occupation: Intern\n"
          ]
        }
      ],
      "source": [
        "# using __init__ constructor\n",
        "\n",
        "class Person:\n",
        "  def __init__(self, name,occupation):\n",
        "    self.name=name\n",
        "    self.occupation=occupation\n",
        "\n",
        "  def info(self):\n",
        "    print(\"Person :\",name,\"occupation:\",occupation)\n",
        "\n",
        "a=Person('Sagar','Intern') \n",
        "a.info()\n"
      ]
    },
    {
      "cell_type": "markdown",
      "metadata": {
        "id": "s-npSC7SxqRa"
      },
      "source": [
        "**Constructor**"
      ]
    },
    {
      "cell_type": "code",
      "execution_count": null,
      "metadata": {
        "colab": {
          "base_uri": "https://localhost:8080/"
        },
        "id": "LkUTXrSmoGvn",
        "outputId": "3f2f212d-a1a3-4c99-f454-993252382ddd"
      },
      "outputs": [
        {
          "name": "stdout",
          "output_type": "stream",
          "text": [
            "Alan\n",
            "sagar\n"
          ]
        }
      ],
      "source": [
        "# !pwd\n",
        "# constructor allocate the memory or size of object\n",
        "# self work as a pointer\n",
        "\n",
        "class Person:\n",
        "  def __init__(self):\n",
        "    self.name=\"sagar\"\n",
        "    self.occupation=\"Intern\"\n",
        "\n",
        "  def update(self):\n",
        "    self.occupation=\"Student\"\n",
        "a=Person() \n",
        "b=Person() \n",
        "\n",
        "a.name=\"Alan\"\n",
        "a.occupaation='Worker'\n",
        "\n",
        "a.update()\n",
        "print(a.name)\n",
        "print(b.name)"
      ]
    },
    {
      "cell_type": "code",
      "execution_count": null,
      "metadata": {
        "colab": {
          "base_uri": "https://localhost:8080/"
        },
        "id": "t4F2PtLM1Pzv",
        "outputId": "541678fb-4f78-4c9a-a616-878fec122ef5"
      },
      "outputs": [
        {
          "name": "stdout",
          "output_type": "stream",
          "text": [
            "Audi 50\n",
            "Audi 40\n"
          ]
        }
      ],
      "source": [
        "# Types of vairable\n",
        "class car:\n",
        "\n",
        "  # color = matalic black # class instance\n",
        "    def __init__(self):\n",
        "        self.mil=40\n",
        "        self.brand=\"Audi\"\n",
        "a=car()\n",
        "b=car()\n",
        "\n",
        "a.mil=50 #instance variable\n",
        "\n",
        "print(a.brand,a.mil)\n",
        "print(b.brand,b.mil)\n"
      ]
    },
    {
      "cell_type": "code",
      "execution_count": null,
      "metadata": {
        "colab": {
          "base_uri": "https://localhost:8080/"
        },
        "id": "jLYLgCXM3zvz",
        "outputId": "ec132f0b-8ccd-44a3-f64b-0bb3962f751e"
      },
      "outputs": [
        {
          "data": {
            "text/plain": [
              "81.66666666666667"
            ]
          },
          "execution_count": 37,
          "metadata": {},
          "output_type": "execute_result"
        }
      ],
      "source": [
        "# types of Method\n",
        "\n",
        "#  instance method\n",
        "class Student:\n",
        "    def __init__(self,m1,m2,m3):\n",
        "      self.m1=m1\n",
        "      self.m2=m2\n",
        "      self.m3=m3\n",
        "\n",
        "    def avg(self):  # instance method\n",
        "          return(self.m1 + self.m2 + self.m3)/3\n",
        "\n",
        "    def get_m1(self): # geters as accessors Method\n",
        "      return self.m1\n",
        "\n",
        "    def set_m1(self,value): # seters as mutator Method\n",
        "      return self.m1=value\n",
        "\n",
        "s1=Student(89,57,99)\n",
        "s2=Student(25,30,36)\n",
        "s1.avg()"
      ]
    },
    {
      "cell_type": "code",
      "execution_count": null,
      "metadata": {
        "colab": {
          "base_uri": "https://localhost:8080/"
        },
        "id": "kk0jreEw9lVw",
        "outputId": "c53968da-4694-41f9-dcca-4cc4149f51c5"
      },
      "outputs": [
        {
          "name": "stdout",
          "output_type": "stream",
          "text": [
            "sagar 33\n",
            "HP_vitctus  Nvidia\n"
          ]
        }
      ],
      "source": [
        "# inner class\n",
        "\n",
        "class Student: # outer class\n",
        "  def __init__(self,name,rollno):\n",
        "    self.name=name\n",
        "    self.rollno=rollno\n",
        "    self.lap=self.Laptop()\n",
        "\n",
        "  def show(self):\n",
        "    print(self.name,self.rollno)\n",
        "  \n",
        "  class  Laptop: #inner class \n",
        "        def __init__(self):\n",
        "          self.brand=\"HP_vitctus \"\n",
        "          self.graphics=\"Nvidia\"\n",
        "\n",
        "        def show(self):\n",
        "            print(self.brand,self.graphics)\n",
        "\n",
        "s1=Student(\"sagar\",33,)\n",
        "s1.show()\n",
        "\n",
        "lap1=Student.Laptop()\n",
        "lap1.show()\n",
        "       "
      ]
    },
    {
      "cell_type": "markdown",
      "metadata": {
        "id": "NnAnH2ysi2Zx"
      },
      "source": [
        "**Inheritance**"
      ]
    },
    {
      "cell_type": "code",
      "execution_count": null,
      "metadata": {
        "colab": {
          "base_uri": "https://localhost:8080/"
        },
        "id": "3i8DolRkizs_",
        "outputId": "0e5e5b80-a67b-45a4-9fbf-2a9781bb375e"
      },
      "outputs": [
        {
          "name": "stdout",
          "output_type": "stream",
          "text": [
            "Feature 1\n",
            "Feature 3\n"
          ]
        }
      ],
      "source": [
        "class A: # super class\n",
        "  def feature1(self):\n",
        "    print(\"Feature 1\")\n",
        "\n",
        "  def feature2(self):\n",
        "    print(\"Feature 2\")\n",
        "\n",
        "class B(A): # Sub class\n",
        "  def feature3(self):\n",
        "    print(\"Feature 3\")\n",
        "\n",
        "  def feature4(self):\n",
        "    print(\"Feature 4\")\n",
        "\n",
        "a1=A()\n",
        "a1.feature1()\n",
        "b1=B()\n",
        "b1.feature3()"
      ]
    },
    {
      "cell_type": "code",
      "execution_count": null,
      "metadata": {
        "colab": {
          "base_uri": "https://localhost:8080/"
        },
        "id": "7wEDdmaJiyTR",
        "outputId": "120bc065-c763-43c3-cd6f-a38385580f48"
      },
      "outputs": [
        {
          "name": "stdout",
          "output_type": "stream",
          "text": [
            " In  A\n",
            " In  B\n"
          ]
        }
      ],
      "source": [
        "# constructor in Inheritance\n",
        "class A: # super class\n",
        "  def __init__(self):\n",
        "     print(\" In  A\")\n",
        "  def feature1(self):\n",
        "    print(\"Feature 1\")\n",
        "\n",
        "  def feature2(self):\n",
        "    print(\"Feature 2\")\n",
        "\n",
        "class B(A): # Sub class\n",
        "  def __init__(self):\n",
        "     super().__init__()\n",
        "     print(\" In  B\")\n",
        "\n",
        "  def feature3(self):\n",
        "    print(\"Feature 3\") \n",
        "\n",
        "\n",
        "  def feature4(self):\n",
        "    print(\"Feature 4\")\n",
        "\n",
        "a1=B()\n",
        "\n",
        "# note : MRO method Resolution Order prefers left order first then right \n",
        "# left--> right \n",
        "#    \\    /\n",
        "#   sub_class "
      ]
    },
    {
      "cell_type": "markdown",
      "metadata": {
        "id": "VWGy4nHGntcV"
      },
      "source": [
        "**Polymorpishm**"
      ]
    },
    {
      "cell_type": "code",
      "execution_count": null,
      "metadata": {
        "colab": {
          "base_uri": "https://localhost:8080/"
        },
        "id": "HAOtNOogn4dB",
        "outputId": "c73b7559-36ab-4f40-e2d1-7bd3ffd24cbd"
      },
      "outputs": [
        {
          "name": "stdout",
          "output_type": "stream",
          "text": [
            "Caught warning \n",
            "compiling sucessfully\n",
            "Running sucessfully\n"
          ]
        }
      ],
      "source": [
        "# Duck Typing\n",
        "# Dynamic Typing (same object)\n",
        "class VScode :\n",
        "   def execute(self):\n",
        "     print(\"compiling sucessfully\")\n",
        "     print(\"Running sucessfully\")\n",
        "\n",
        "class Pycharm():\n",
        "   def execute(self):\n",
        "    print(\"Caught warning \")\n",
        "    print(\"compiling sucessfully\")\n",
        "    print(\"Running sucessfully\")       \n",
        "\n",
        "class Laptop:\n",
        "  def code(self,ide):\n",
        "    ide.execute()\n",
        "\n",
        "ide =Pycharm() \n",
        "lap1=Laptop()\n",
        "lap1.code(ide)"
      ]
    },
    {
      "cell_type": "code",
      "execution_count": null,
      "metadata": {
        "colab": {
          "base_uri": "https://localhost:8080/"
        },
        "id": "m9aS1EJsrqZF",
        "outputId": "dc491269-4d4a-401e-b40e-3299631703df"
      },
      "outputs": [
        {
          "name": "stdout",
          "output_type": "stream",
          "text": [
            "174\n",
            "string\n"
          ]
        }
      ],
      "source": [
        "\n",
        "# Operator overloading\n",
        "a=98\n",
        "b=76\n",
        "# print(a+b)\n",
        "print(int.__add__(a,b))\n",
        "\n",
        "a=\"str\"\n",
        "b=\"ing\"\n",
        "print(str.__add__(a,b))\n",
        "\n"
      ]
    },
    {
      "cell_type": "code",
      "execution_count": null,
      "metadata": {
        "colab": {
          "base_uri": "https://localhost:8080/"
        },
        "id": "Hstw62mduGFT",
        "outputId": "0191c044-710b-474e-fcca-c2eb8b223dde"
      },
      "outputs": [
        {
          "name": "stdout",
          "output_type": "stream",
          "text": [
            "110\n",
            "80\n",
            "8\n",
            "m1: 25, m2: 28\n"
          ]
        }
      ],
      "source": [
        "class Student:\n",
        "  def __init__(self,m1,m2):\n",
        "    self.m1=m1\n",
        "    self.m2=m2\n",
        "\n",
        "  def __add__(self,other):\n",
        "     m1=self.m1+other.m1\n",
        "     m2=self.m2+other.m2\n",
        "     s3=Student(m1,m2)\n",
        "     return s3\n",
        "\n",
        "  def __str__(self):\n",
        "    # return self.m1,self.m2,\n",
        "      # return '{} {}'.format(self.m1,self.m2)\n",
        "      return f\"m1: {self.m1}, m2: {self.m2}\"\n",
        "\n",
        "s1=Student(25,28)\n",
        "s2=Student(85,52)\n",
        "s3=s1+s2\n",
        "print(s3.m1)   \n",
        "print(s3.m2)   \n",
        "a=8\n",
        "print(a.__str__())\n",
        "print(s1.__str__())"
      ]
    },
    {
      "cell_type": "code",
      "execution_count": null,
      "metadata": {
        "colab": {
          "base_uri": "https://localhost:8080/"
        },
        "id": "LZakVaKW1h7m",
        "outputId": "a1edf888-c938-41fa-f5dc-abdfed07ac9a"
      },
      "outputs": [
        {
          "name": "stdout",
          "output_type": "stream",
          "text": [
            "14\n",
            " In A\n"
          ]
        }
      ],
      "source": [
        "# Method Overloading & Method Overiding \n",
        "\n",
        "\n",
        "# Method Overloading \n",
        " # in python we can not create two methods of same name and same parameter in\n",
        "\n",
        "\n",
        "class Student:\n",
        "     def __init__(self,m1,m2):\n",
        "        self.m1=m1\n",
        "        self.m2=m2\n",
        "\n",
        "     def sum(self,a=None ,b=None ,c=None):# Default Parameter \n",
        "         s=a+b\n",
        "         return s\n",
        "s1= Student(6,7)\n",
        "print(s1.sum(5,9))\n",
        "\n",
        "# Method Overriding \n",
        "class A:\n",
        "   def show(self):\n",
        "    print(\"In A\")\n",
        "class B(A): # B inherits the A\n",
        "  pass\n",
        "\n",
        "a1=B()\n",
        "a1.show()"
      ]
    },
    {
      "cell_type": "markdown",
      "metadata": {
        "id": "zWO5cd8x9SRf"
      },
      "source": [
        "Abstract Class and Abstract Method"
      ]
    },
    {
      "cell_type": "code",
      "execution_count": null,
      "metadata": {
        "colab": {
          "base_uri": "https://localhost:8080/"
        },
        "id": "bnZrIhyOutMT",
        "outputId": "b4d91af1-b534-4ca0-cce7-390cf8431b64"
      },
      "outputs": [
        {
          "name": "stdout",
          "output_type": "stream",
          "text": [
            "Hurry up,about to End\n",
            "Programming \n"
          ]
        }
      ],
      "source": [
        "# by default python doesn't support Abstract class\n",
        "# application  based uses \n",
        "from abc import ABC, abstractmethod\n",
        "class Computer(ABC):\n",
        "    @abstractmethod \n",
        "    def pr(self):\n",
        "      pass\n",
        "class Laptop(Computer):\n",
        "  def pr(self):\n",
        "    print(\"Hurry up,about to End\")\n",
        "\n",
        "class Programmer:\n",
        "  def work(self):\n",
        "    print(\"Programming \")\n",
        "\n",
        "com1=Laptop()\n",
        "com1.pr()\n",
        "\n",
        "prog1=Programmer()\n",
        "prog1.work()"
      ]
    },
    {
      "cell_type": "markdown",
      "metadata": {
        "id": "y2gBla8MDd9K"
      },
      "source": [
        "**Advance** **Topics**"
      ]
    },
    {
      "cell_type": "markdown",
      "metadata": {
        "id": "2Y3S1INeD3xM"
      },
      "source": [
        "**Exception** **Handling**"
      ]
    },
    {
      "cell_type": "code",
      "execution_count": null,
      "metadata": {
        "colab": {
          "base_uri": "https://localhost:8080/"
        },
        "id": "BL0cVpgVB1Xs",
        "outputId": "471963af-9942-435e-9ee1-c9f467a6cd59"
      },
      "outputs": [
        {
          "name": "stdout",
          "output_type": "stream",
          "text": [
            "Enter the Number: 18555\n",
            "Enter the Number: 0\n",
            "Can not divide by Zero \n",
            "Exception is : division by zero\n",
            "operation Done \n"
          ]
        }
      ],
      "source": [
        "# compile Error \n",
        "# logical Error\n",
        "# Run Time Error\n",
        "a=int (input(\"Enter the Number: \"))\n",
        "b=int (input(\"Enter the Number: \"))\n",
        "\n",
        "try:\n",
        "  print(a/b)\n",
        "  c=int (input (\"Enter the Number: \"))\n",
        "\n",
        "except ZeroDivisionError as  e:  # can not divide by Zero (Zero Division Error)\n",
        "  print(\"Can not divide by Zero \\nException is :\",e)\n",
        "\n",
        "except ValueError as e:  # value Error \n",
        "  print(\"Invalid input\")    \n",
        "\n",
        "except Exception as e:  # common Exception which catch the all Error\n",
        "  print(\"Warning, something went wrong\")    \n",
        "\n",
        "finally:\n",
        "  print(\"operation Done \")"
      ]
    },
    {
      "cell_type": "markdown",
      "metadata": {
        "id": "wsoCHUV3X9bA"
      },
      "source": [
        "**Multi** **Threading**"
      ]
    },
    {
      "cell_type": "code",
      "execution_count": null,
      "metadata": {
        "colab": {
          "base_uri": "https://localhost:8080/"
        },
        "id": "2EsCE3GPX-Iu",
        "outputId": "e244c2fb-f78c-46ee-8e77-cd3d639a90cf"
      },
      "outputs": [
        {
          "name": "stdout",
          "output_type": "stream",
          "text": [
            "Starbucks \n",
            "Subway  \n",
            "Starbucks \n",
            "Subway  \n",
            "Starbucks \n",
            "Subway  \n",
            "Starbucks \n",
            "Subway  \n",
            "Starbucks \n",
            "Subway  \n"
          ]
        }
      ],
      "source": [
        "from time import sleep\n",
        "from threading import *\n",
        "class Starbucks(Thread): # Thread 1\n",
        "    def run(self):\n",
        "      for i in range(5):\n",
        "          print(\"Starbucks \")\n",
        "          sleep(1)\n",
        "\n",
        "class Subway (Thread): # Thread 2\n",
        "   def run(self):\n",
        "      for i in range(5):\n",
        "          print(\"Subway  \")\n",
        "          sleep(1)\n",
        "\n",
        "f1=Starbucks()\n",
        "f2=Subway()\n",
        "\n",
        "\n",
        "f1.start()\n",
        "sleep(0.2)\n",
        "f2.start()\n",
        "f1.join()\n",
        "f2.join()"
      ]
    },
    {
      "cell_type": "markdown",
      "metadata": {
        "id": "2W_M3bgrmaEI"
      },
      "source": [
        "**File** **Handling**"
      ]
    },
    {
      "cell_type": "code",
      "execution_count": null,
      "metadata": {
        "id": "rNzJrSSwmcS4"
      },
      "outputs": [],
      "source": [
        "# Writing in file\n",
        "file_path = '/content/drive/MyDrive/python.txt'\n",
        "\n",
        "with open(file_path, 'w') as file:\n",
        "    file.write(\"This is some example text.\")\n"
      ]
    },
    {
      "cell_type": "code",
      "execution_count": null,
      "metadata": {
        "colab": {
          "base_uri": "https://localhost:8080/"
        },
        "id": "fuzUOzcOo2pW",
        "outputId": "c3166008-cca5-4a95-d1d2-29c29eb09830"
      },
      "outputs": [
        {
          "name": "stdout",
          "output_type": "stream",
          "text": [
            "This is some example text.\n"
          ]
        }
      ],
      "source": [
        "# Reading from the file\n",
        "file_path = '/content/drive/MyDrive/python.txt'\n",
        "\n",
        "with open(file_path, 'r') as file:\n",
        "    content = file.read()\n",
        "    print(content)\n"
      ]
    }
  ],
  "metadata": {
    "colab": {
      "authorship_tag": "ABX9TyNCshKbXK0NsvtnfQtEmpv8",
      "include_colab_link": true,
      "mount_file_id": "1EkM6pXsUUELMqSPJWdISE3anL0SFl4vi",
      "provenance": []
    },
    "kernelspec": {
      "display_name": "Python 3",
      "name": "python3"
    },
    "language_info": {
      "name": "python"
    }
  },
  "nbformat": 4,
  "nbformat_minor": 0
}
